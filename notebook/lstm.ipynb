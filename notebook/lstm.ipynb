{
 "cells": [
  {
   "cell_type": "code",
   "execution_count": 18,
   "metadata": {
    "collapsed": true,
    "ExecuteTime": {
     "start_time": "2023-05-18T17:10:48.719634Z",
     "end_time": "2023-05-18T17:10:48.755351Z"
    }
   },
   "outputs": [],
   "source": [
    "import numpy as np\n",
    "import matplotlib.pyplot as plt\n",
    "import pandas as pd\n",
    "import seaborn as sns\n",
    "import tensorflow as tf\n",
    "import datetime\n",
    "from tensorflow.keras import utils\n",
    "from keras.layers import Dense, Activation, Flatten, LSTM\n",
    "from keras.preprocessing.sequence import TimeseriesGenerator\n",
    "from sklearn.model_selection import train_test_split\n",
    "from keras.models import Sequential"
   ]
  },
  {
   "cell_type": "code",
   "execution_count": 19,
   "outputs": [
    {
     "name": "stderr",
     "output_type": "stream",
     "text": [
      "C:\\Users\\huso\\AppData\\Local\\Temp\\ipykernel_19676\\2718744659.py:1: DtypeWarning: Columns (18,23,24,26,28,31,33,41) have mixed types. Specify dtype option on import or set low_memory=False.\n",
      "  data_2021 = pd.read_csv(\"données/valeursfoncieres-2022-s1.csv\", sep=\"|\")\n"
     ]
    }
   ],
   "source": [
    "data_2021 = pd.read_csv(\"données/valeursfoncieres-2022-s1.csv\", sep=\"|\")"
   ],
   "metadata": {
    "collapsed": false,
    "ExecuteTime": {
     "start_time": "2023-05-18T17:10:49.041538Z",
     "end_time": "2023-05-18T17:10:52.351694Z"
    }
   }
  },
  {
   "cell_type": "code",
   "execution_count": 20,
   "outputs": [
    {
     "data": {
      "text/plain": "         Code service sages  Reference document  1 Articles CGI  \\\n0                       NaN                 NaN             NaN   \n1                       NaN                 NaN             NaN   \n2                       NaN                 NaN             NaN   \n3                       NaN                 NaN             NaN   \n4                       NaN                 NaN             NaN   \n...                     ...                 ...             ...   \n1429088                 NaN                 NaN             NaN   \n1429089                 NaN                 NaN             NaN   \n1429090                 NaN                 NaN             NaN   \n1429091                 NaN                 NaN             NaN   \n1429092                 NaN                 NaN             NaN   \n\n         2 Articles CGI  3 Articles CGI  4 Articles CGI  5 Articles CGI  \\\n0                   NaN             NaN             NaN             NaN   \n1                   NaN             NaN             NaN             NaN   \n2                   NaN             NaN             NaN             NaN   \n3                   NaN             NaN             NaN             NaN   \n4                   NaN             NaN             NaN             NaN   \n...                 ...             ...             ...             ...   \n1429088             NaN             NaN             NaN             NaN   \n1429089             NaN             NaN             NaN             NaN   \n1429090             NaN             NaN             NaN             NaN   \n1429091             NaN             NaN             NaN             NaN   \n1429092             NaN             NaN             NaN             NaN   \n\n         No disposition Date mutation Nature mutation  ...  \\\n0                     1    03/01/2022           Vente  ...   \n1                     1    03/01/2022           Vente  ...   \n2                     1    03/01/2022           Vente  ...   \n3                     1    03/01/2022           Vente  ...   \n4                     1    04/01/2022           Vente  ...   \n...                 ...           ...             ...  ...   \n1429088               1    21/06/2022           Vente  ...   \n1429089               1    21/06/2022           Vente  ...   \n1429090               1    30/06/2022           Vente  ...   \n1429091               1    10/02/2022    Adjudication  ...   \n1429092               1    29/04/2022           Vente  ...   \n\n        Surface Carrez du 5eme lot  Nombre de lots Code type local  \\\n0                              NaN               1             2.0   \n1                              NaN               0             NaN   \n2                              NaN               0             NaN   \n3                              NaN               1             2.0   \n4                              NaN               0             NaN   \n...                            ...             ...             ...   \n1429088                        NaN               2             3.0   \n1429089                        NaN               1             3.0   \n1429090                        NaN               1             2.0   \n1429091                        NaN               1             3.0   \n1429092                        NaN               1             3.0   \n\n          Type local Identifiant local Surface reelle bati  \\\n0        Appartement               NaN                24.0   \n1                NaN               NaN                 NaN   \n2                NaN               NaN                 NaN   \n3        Appartement               NaN               140.0   \n4                NaN               NaN                 NaN   \n...              ...               ...                 ...   \n1429088   Dépendance               NaN                 0.0   \n1429089   Dépendance               NaN                 0.0   \n1429090  Appartement               NaN                15.0   \n1429091   Dépendance               NaN                 0.0   \n1429092   Dépendance               NaN                 0.0   \n\n         Nombre pieces principales Nature culture Nature culture speciale  \\\n0                              1.0            NaN                     NaN   \n1                              NaN              S                     NaN   \n2                              NaN              S                     NaN   \n3                              3.0            NaN                     NaN   \n4                              NaN              T                     NaN   \n...                            ...            ...                     ...   \n1429088                        0.0            NaN                     NaN   \n1429089                        0.0            NaN                     NaN   \n1429090                        1.0            NaN                     NaN   \n1429091                        0.0            NaN                     NaN   \n1429092                        0.0            NaN                     NaN   \n\n         Surface terrain  \n0                    NaN  \n1                   84.0  \n2                   88.0  \n3                    NaN  \n4                  510.0  \n...                  ...  \n1429088              NaN  \n1429089              NaN  \n1429090              NaN  \n1429091              NaN  \n1429092              NaN  \n\n[1429093 rows x 43 columns]",
      "text/html": "<div>\n<style scoped>\n    .dataframe tbody tr th:only-of-type {\n        vertical-align: middle;\n    }\n\n    .dataframe tbody tr th {\n        vertical-align: top;\n    }\n\n    .dataframe thead th {\n        text-align: right;\n    }\n</style>\n<table border=\"1\" class=\"dataframe\">\n  <thead>\n    <tr style=\"text-align: right;\">\n      <th></th>\n      <th>Code service sages</th>\n      <th>Reference document</th>\n      <th>1 Articles CGI</th>\n      <th>2 Articles CGI</th>\n      <th>3 Articles CGI</th>\n      <th>4 Articles CGI</th>\n      <th>5 Articles CGI</th>\n      <th>No disposition</th>\n      <th>Date mutation</th>\n      <th>Nature mutation</th>\n      <th>...</th>\n      <th>Surface Carrez du 5eme lot</th>\n      <th>Nombre de lots</th>\n      <th>Code type local</th>\n      <th>Type local</th>\n      <th>Identifiant local</th>\n      <th>Surface reelle bati</th>\n      <th>Nombre pieces principales</th>\n      <th>Nature culture</th>\n      <th>Nature culture speciale</th>\n      <th>Surface terrain</th>\n    </tr>\n  </thead>\n  <tbody>\n    <tr>\n      <th>0</th>\n      <td>NaN</td>\n      <td>NaN</td>\n      <td>NaN</td>\n      <td>NaN</td>\n      <td>NaN</td>\n      <td>NaN</td>\n      <td>NaN</td>\n      <td>1</td>\n      <td>03/01/2022</td>\n      <td>Vente</td>\n      <td>...</td>\n      <td>NaN</td>\n      <td>1</td>\n      <td>2.0</td>\n      <td>Appartement</td>\n      <td>NaN</td>\n      <td>24.0</td>\n      <td>1.0</td>\n      <td>NaN</td>\n      <td>NaN</td>\n      <td>NaN</td>\n    </tr>\n    <tr>\n      <th>1</th>\n      <td>NaN</td>\n      <td>NaN</td>\n      <td>NaN</td>\n      <td>NaN</td>\n      <td>NaN</td>\n      <td>NaN</td>\n      <td>NaN</td>\n      <td>1</td>\n      <td>03/01/2022</td>\n      <td>Vente</td>\n      <td>...</td>\n      <td>NaN</td>\n      <td>0</td>\n      <td>NaN</td>\n      <td>NaN</td>\n      <td>NaN</td>\n      <td>NaN</td>\n      <td>NaN</td>\n      <td>S</td>\n      <td>NaN</td>\n      <td>84.0</td>\n    </tr>\n    <tr>\n      <th>2</th>\n      <td>NaN</td>\n      <td>NaN</td>\n      <td>NaN</td>\n      <td>NaN</td>\n      <td>NaN</td>\n      <td>NaN</td>\n      <td>NaN</td>\n      <td>1</td>\n      <td>03/01/2022</td>\n      <td>Vente</td>\n      <td>...</td>\n      <td>NaN</td>\n      <td>0</td>\n      <td>NaN</td>\n      <td>NaN</td>\n      <td>NaN</td>\n      <td>NaN</td>\n      <td>NaN</td>\n      <td>S</td>\n      <td>NaN</td>\n      <td>88.0</td>\n    </tr>\n    <tr>\n      <th>3</th>\n      <td>NaN</td>\n      <td>NaN</td>\n      <td>NaN</td>\n      <td>NaN</td>\n      <td>NaN</td>\n      <td>NaN</td>\n      <td>NaN</td>\n      <td>1</td>\n      <td>03/01/2022</td>\n      <td>Vente</td>\n      <td>...</td>\n      <td>NaN</td>\n      <td>1</td>\n      <td>2.0</td>\n      <td>Appartement</td>\n      <td>NaN</td>\n      <td>140.0</td>\n      <td>3.0</td>\n      <td>NaN</td>\n      <td>NaN</td>\n      <td>NaN</td>\n    </tr>\n    <tr>\n      <th>4</th>\n      <td>NaN</td>\n      <td>NaN</td>\n      <td>NaN</td>\n      <td>NaN</td>\n      <td>NaN</td>\n      <td>NaN</td>\n      <td>NaN</td>\n      <td>1</td>\n      <td>04/01/2022</td>\n      <td>Vente</td>\n      <td>...</td>\n      <td>NaN</td>\n      <td>0</td>\n      <td>NaN</td>\n      <td>NaN</td>\n      <td>NaN</td>\n      <td>NaN</td>\n      <td>NaN</td>\n      <td>T</td>\n      <td>NaN</td>\n      <td>510.0</td>\n    </tr>\n    <tr>\n      <th>...</th>\n      <td>...</td>\n      <td>...</td>\n      <td>...</td>\n      <td>...</td>\n      <td>...</td>\n      <td>...</td>\n      <td>...</td>\n      <td>...</td>\n      <td>...</td>\n      <td>...</td>\n      <td>...</td>\n      <td>...</td>\n      <td>...</td>\n      <td>...</td>\n      <td>...</td>\n      <td>...</td>\n      <td>...</td>\n      <td>...</td>\n      <td>...</td>\n      <td>...</td>\n      <td>...</td>\n    </tr>\n    <tr>\n      <th>1429088</th>\n      <td>NaN</td>\n      <td>NaN</td>\n      <td>NaN</td>\n      <td>NaN</td>\n      <td>NaN</td>\n      <td>NaN</td>\n      <td>NaN</td>\n      <td>1</td>\n      <td>21/06/2022</td>\n      <td>Vente</td>\n      <td>...</td>\n      <td>NaN</td>\n      <td>2</td>\n      <td>3.0</td>\n      <td>Dépendance</td>\n      <td>NaN</td>\n      <td>0.0</td>\n      <td>0.0</td>\n      <td>NaN</td>\n      <td>NaN</td>\n      <td>NaN</td>\n    </tr>\n    <tr>\n      <th>1429089</th>\n      <td>NaN</td>\n      <td>NaN</td>\n      <td>NaN</td>\n      <td>NaN</td>\n      <td>NaN</td>\n      <td>NaN</td>\n      <td>NaN</td>\n      <td>1</td>\n      <td>21/06/2022</td>\n      <td>Vente</td>\n      <td>...</td>\n      <td>NaN</td>\n      <td>1</td>\n      <td>3.0</td>\n      <td>Dépendance</td>\n      <td>NaN</td>\n      <td>0.0</td>\n      <td>0.0</td>\n      <td>NaN</td>\n      <td>NaN</td>\n      <td>NaN</td>\n    </tr>\n    <tr>\n      <th>1429090</th>\n      <td>NaN</td>\n      <td>NaN</td>\n      <td>NaN</td>\n      <td>NaN</td>\n      <td>NaN</td>\n      <td>NaN</td>\n      <td>NaN</td>\n      <td>1</td>\n      <td>30/06/2022</td>\n      <td>Vente</td>\n      <td>...</td>\n      <td>NaN</td>\n      <td>1</td>\n      <td>2.0</td>\n      <td>Appartement</td>\n      <td>NaN</td>\n      <td>15.0</td>\n      <td>1.0</td>\n      <td>NaN</td>\n      <td>NaN</td>\n      <td>NaN</td>\n    </tr>\n    <tr>\n      <th>1429091</th>\n      <td>NaN</td>\n      <td>NaN</td>\n      <td>NaN</td>\n      <td>NaN</td>\n      <td>NaN</td>\n      <td>NaN</td>\n      <td>NaN</td>\n      <td>1</td>\n      <td>10/02/2022</td>\n      <td>Adjudication</td>\n      <td>...</td>\n      <td>NaN</td>\n      <td>1</td>\n      <td>3.0</td>\n      <td>Dépendance</td>\n      <td>NaN</td>\n      <td>0.0</td>\n      <td>0.0</td>\n      <td>NaN</td>\n      <td>NaN</td>\n      <td>NaN</td>\n    </tr>\n    <tr>\n      <th>1429092</th>\n      <td>NaN</td>\n      <td>NaN</td>\n      <td>NaN</td>\n      <td>NaN</td>\n      <td>NaN</td>\n      <td>NaN</td>\n      <td>NaN</td>\n      <td>1</td>\n      <td>29/04/2022</td>\n      <td>Vente</td>\n      <td>...</td>\n      <td>NaN</td>\n      <td>1</td>\n      <td>3.0</td>\n      <td>Dépendance</td>\n      <td>NaN</td>\n      <td>0.0</td>\n      <td>0.0</td>\n      <td>NaN</td>\n      <td>NaN</td>\n      <td>NaN</td>\n    </tr>\n  </tbody>\n</table>\n<p>1429093 rows × 43 columns</p>\n</div>"
     },
     "execution_count": 20,
     "metadata": {},
     "output_type": "execute_result"
    }
   ],
   "source": [
    "data_2021"
   ],
   "metadata": {
    "collapsed": false,
    "ExecuteTime": {
     "start_time": "2023-05-18T17:10:52.352793Z",
     "end_time": "2023-05-18T17:10:52.787505Z"
    }
   }
  },
  {
   "cell_type": "code",
   "execution_count": 21,
   "outputs": [],
   "source": [
    "data_2021_c = data_2021[['Date mutation', 'Nature mutation', 'Valeur fonciere', 'No voie', 'Code postal',\n",
    "                         'Code departement', 'Code type local', 'Code voie', 'Code type local', 'Surface reelle bati']]"
   ],
   "metadata": {
    "collapsed": false,
    "ExecuteTime": {
     "start_time": "2023-05-18T17:10:52.806875Z",
     "end_time": "2023-05-18T17:10:52.930390Z"
    }
   }
  },
  {
   "cell_type": "code",
   "execution_count": 22,
   "outputs": [
    {
     "data": {
      "text/plain": "  Date mutation Nature mutation Valeur fonciere  No voie  Code postal  \\\n0    03/01/2022           Vente        55000,00     13.0       1000.0   \n1    03/01/2022           Vente       143000,00      NaN       1480.0   \n2    03/01/2022           Vente       143000,00      NaN       1480.0   \n3    03/01/2022           Vente       143000,00     98.0       1480.0   \n4    04/01/2022           Vente          300,00      NaN       1480.0   \n\n  Code departement  Code type local Code voie  Code type local  \\\n0                1              2.0      2280              2.0   \n1                1              NaN      B010              NaN   \n2                1              NaN      B010              NaN   \n3                1              2.0      0055              2.0   \n4                1              NaN      B031              NaN   \n\n   Surface reelle bati  \n0                 24.0  \n1                  NaN  \n2                  NaN  \n3                140.0  \n4                  NaN  ",
      "text/html": "<div>\n<style scoped>\n    .dataframe tbody tr th:only-of-type {\n        vertical-align: middle;\n    }\n\n    .dataframe tbody tr th {\n        vertical-align: top;\n    }\n\n    .dataframe thead th {\n        text-align: right;\n    }\n</style>\n<table border=\"1\" class=\"dataframe\">\n  <thead>\n    <tr style=\"text-align: right;\">\n      <th></th>\n      <th>Date mutation</th>\n      <th>Nature mutation</th>\n      <th>Valeur fonciere</th>\n      <th>No voie</th>\n      <th>Code postal</th>\n      <th>Code departement</th>\n      <th>Code type local</th>\n      <th>Code voie</th>\n      <th>Code type local</th>\n      <th>Surface reelle bati</th>\n    </tr>\n  </thead>\n  <tbody>\n    <tr>\n      <th>0</th>\n      <td>03/01/2022</td>\n      <td>Vente</td>\n      <td>55000,00</td>\n      <td>13.0</td>\n      <td>1000.0</td>\n      <td>1</td>\n      <td>2.0</td>\n      <td>2280</td>\n      <td>2.0</td>\n      <td>24.0</td>\n    </tr>\n    <tr>\n      <th>1</th>\n      <td>03/01/2022</td>\n      <td>Vente</td>\n      <td>143000,00</td>\n      <td>NaN</td>\n      <td>1480.0</td>\n      <td>1</td>\n      <td>NaN</td>\n      <td>B010</td>\n      <td>NaN</td>\n      <td>NaN</td>\n    </tr>\n    <tr>\n      <th>2</th>\n      <td>03/01/2022</td>\n      <td>Vente</td>\n      <td>143000,00</td>\n      <td>NaN</td>\n      <td>1480.0</td>\n      <td>1</td>\n      <td>NaN</td>\n      <td>B010</td>\n      <td>NaN</td>\n      <td>NaN</td>\n    </tr>\n    <tr>\n      <th>3</th>\n      <td>03/01/2022</td>\n      <td>Vente</td>\n      <td>143000,00</td>\n      <td>98.0</td>\n      <td>1480.0</td>\n      <td>1</td>\n      <td>2.0</td>\n      <td>0055</td>\n      <td>2.0</td>\n      <td>140.0</td>\n    </tr>\n    <tr>\n      <th>4</th>\n      <td>04/01/2022</td>\n      <td>Vente</td>\n      <td>300,00</td>\n      <td>NaN</td>\n      <td>1480.0</td>\n      <td>1</td>\n      <td>NaN</td>\n      <td>B031</td>\n      <td>NaN</td>\n      <td>NaN</td>\n    </tr>\n  </tbody>\n</table>\n</div>"
     },
     "execution_count": 22,
     "metadata": {},
     "output_type": "execute_result"
    }
   ],
   "source": [
    "data_2021_c.head()"
   ],
   "metadata": {
    "collapsed": false,
    "ExecuteTime": {
     "start_time": "2023-05-18T17:10:52.891784Z",
     "end_time": "2023-05-18T17:10:52.930390Z"
    }
   }
  },
  {
   "cell_type": "code",
   "execution_count": 23,
   "outputs": [
    {
     "name": "stderr",
     "output_type": "stream",
     "text": [
      "C:\\Users\\huso\\AppData\\Local\\Temp\\ipykernel_19676\\3405295925.py:1: SettingWithCopyWarning: \n",
      "A value is trying to be set on a copy of a slice from a DataFrame\n",
      "\n",
      "See the caveats in the documentation: https://pandas.pydata.org/pandas-docs/stable/user_guide/indexing.html#returning-a-view-versus-a-copy\n",
      "  data_2021_c.dropna(axis=0, inplace=True)\n"
     ]
    }
   ],
   "source": [
    "data_2021_c.dropna(axis=0, inplace=True)\n",
    "data_2021_c= data_2021_c.fillna(0)\n",
    "data_2021_c = data_2021_c[data_2021_c['Nature mutation'] == 'Vente']\n",
    "data_2021_c = data_2021_c.drop(columns='Nature mutation')"
   ],
   "metadata": {
    "collapsed": false,
    "ExecuteTime": {
     "start_time": "2023-05-18T17:10:52.898826Z",
     "end_time": "2023-05-18T17:10:54.068353Z"
    }
   }
  },
  {
   "cell_type": "code",
   "execution_count": 24,
   "outputs": [],
   "source": [
    "data_2021_c['Code postal'] = data_2021_c['Code postal'].astype(int)\n",
    "data_2021_c['No voie'] = data_2021_c['No voie'].astype(int)\n",
    "data_2021_c['Code postal'] = data_2021_c['Code postal'].astype(str)\n",
    "data_2021_c['No voie'] = data_2021_c['No voie'].astype(str)\n",
    "data_2021_c[\"ID_Location\"] = data_2021_c['Code voie'].astype(str) +\"-\"+ data_2021_c[\"Code postal\"]+\"-\"+ data_2021_c[\"No voie\"]\n",
    "data_2021_c['Code postal'] = data_2021_c['Code postal'].astype(float)\n",
    "data_2021_c['No voie'] = data_2021_c['No voie'].astype(float)"
   ],
   "metadata": {
    "collapsed": false,
    "ExecuteTime": {
     "start_time": "2023-05-18T17:10:54.071879Z",
     "end_time": "2023-05-18T17:10:54.851419Z"
    }
   }
  },
  {
   "cell_type": "code",
   "execution_count": 25,
   "outputs": [],
   "source": [
    "data_2021_c['Valeur fonciere'] = data_2021_c['Valeur fonciere'].str.replace(',', '.')\n",
    "data_2021_c['Valeur fonciere'] = data_2021_c['Valeur fonciere'].astype(float)\n",
    "data_2021_c['Valeur fonciere'] = data_2021_c['Valeur fonciere'].astype(int)\n",
    "data_2021_c['No voie'] = data_2021_c['No voie'].astype(int)\n",
    "data_2021_c['Code postal'] = data_2021_c['Code postal'].astype(int)\n",
    "data_2021_c['Code type local'] = data_2021_c['Code type local'].astype(int)\n",
    "#data_2021_c['Surface terrain'] = data_2021_c['Surface terrain'].astype(int)\n",
    "data_2021_c['Surface reelle bati'] = data_2021_c['Surface reelle bati'].astype(int)"
   ],
   "metadata": {
    "collapsed": false,
    "ExecuteTime": {
     "start_time": "2023-05-18T17:10:56.010253Z",
     "end_time": "2023-05-18T17:10:56.413362Z"
    }
   }
  },
  {
   "cell_type": "code",
   "execution_count": 26,
   "outputs": [],
   "source": [
    "data_2021_c.set_index('ID_Location', inplace=True)"
   ],
   "metadata": {
    "collapsed": false,
    "ExecuteTime": {
     "start_time": "2023-05-18T17:10:58.069577Z",
     "end_time": "2023-05-18T17:10:58.084158Z"
    }
   }
  },
  {
   "cell_type": "code",
   "execution_count": 27,
   "outputs": [
    {
     "data": {
      "text/plain": "              Date mutation  Valeur fonciere  No voie  Code postal  \\\nID_Location                                                          \n2280-1000-13     03/01/2022            55000       13         1000   \n0055-1480-98     03/01/2022           143000       98         1480   \n0130-1560-282    06/01/2022           255000      282         1560   \n0300-1390-217    03/01/2022           525000      217         1390   \n0300-1390-217    03/01/2022           525000      217         1390   \n...                     ...              ...      ...          ...   \n3536-75015-43    21/06/2022           423000       43        75015   \n3536-75015-43    21/06/2022           423000       43        75015   \n3536-75015-43    21/06/2022           423000       43        75015   \n5554-75011-50    30/06/2022           104650       50        75011   \n6938-75014-3     29/04/2022           200000        3        75014   \n\n              Code departement  Code type local Code voie  Code type local  \\\nID_Location                                                                  \n2280-1000-13                 1                2      2280                2   \n0055-1480-98                 1                2      0055                2   \n0130-1560-282                1                1      0130                1   \n0300-1390-217                1                2      0300                2   \n0300-1390-217                1                4      0300                4   \n...                        ...              ...       ...              ...   \n3536-75015-43               75                2      3536                2   \n3536-75015-43               75                3      3536                3   \n3536-75015-43               75                3      3536                3   \n5554-75011-50               75                2      5554                2   \n6938-75014-3                75                3      6938                3   \n\n               Surface reelle bati  \nID_Location                         \n2280-1000-13                    24  \n0055-1480-98                   140  \n0130-1560-282                  108  \n0300-1390-217                  126  \n0300-1390-217                  424  \n...                            ...  \n3536-75015-43                   43  \n3536-75015-43                    0  \n3536-75015-43                    0  \n5554-75011-50                   15  \n6938-75014-3                     0  \n\n[864743 rows x 9 columns]",
      "text/html": "<div>\n<style scoped>\n    .dataframe tbody tr th:only-of-type {\n        vertical-align: middle;\n    }\n\n    .dataframe tbody tr th {\n        vertical-align: top;\n    }\n\n    .dataframe thead th {\n        text-align: right;\n    }\n</style>\n<table border=\"1\" class=\"dataframe\">\n  <thead>\n    <tr style=\"text-align: right;\">\n      <th></th>\n      <th>Date mutation</th>\n      <th>Valeur fonciere</th>\n      <th>No voie</th>\n      <th>Code postal</th>\n      <th>Code departement</th>\n      <th>Code type local</th>\n      <th>Code voie</th>\n      <th>Code type local</th>\n      <th>Surface reelle bati</th>\n    </tr>\n    <tr>\n      <th>ID_Location</th>\n      <th></th>\n      <th></th>\n      <th></th>\n      <th></th>\n      <th></th>\n      <th></th>\n      <th></th>\n      <th></th>\n      <th></th>\n    </tr>\n  </thead>\n  <tbody>\n    <tr>\n      <th>2280-1000-13</th>\n      <td>03/01/2022</td>\n      <td>55000</td>\n      <td>13</td>\n      <td>1000</td>\n      <td>1</td>\n      <td>2</td>\n      <td>2280</td>\n      <td>2</td>\n      <td>24</td>\n    </tr>\n    <tr>\n      <th>0055-1480-98</th>\n      <td>03/01/2022</td>\n      <td>143000</td>\n      <td>98</td>\n      <td>1480</td>\n      <td>1</td>\n      <td>2</td>\n      <td>0055</td>\n      <td>2</td>\n      <td>140</td>\n    </tr>\n    <tr>\n      <th>0130-1560-282</th>\n      <td>06/01/2022</td>\n      <td>255000</td>\n      <td>282</td>\n      <td>1560</td>\n      <td>1</td>\n      <td>1</td>\n      <td>0130</td>\n      <td>1</td>\n      <td>108</td>\n    </tr>\n    <tr>\n      <th>0300-1390-217</th>\n      <td>03/01/2022</td>\n      <td>525000</td>\n      <td>217</td>\n      <td>1390</td>\n      <td>1</td>\n      <td>2</td>\n      <td>0300</td>\n      <td>2</td>\n      <td>126</td>\n    </tr>\n    <tr>\n      <th>0300-1390-217</th>\n      <td>03/01/2022</td>\n      <td>525000</td>\n      <td>217</td>\n      <td>1390</td>\n      <td>1</td>\n      <td>4</td>\n      <td>0300</td>\n      <td>4</td>\n      <td>424</td>\n    </tr>\n    <tr>\n      <th>...</th>\n      <td>...</td>\n      <td>...</td>\n      <td>...</td>\n      <td>...</td>\n      <td>...</td>\n      <td>...</td>\n      <td>...</td>\n      <td>...</td>\n      <td>...</td>\n    </tr>\n    <tr>\n      <th>3536-75015-43</th>\n      <td>21/06/2022</td>\n      <td>423000</td>\n      <td>43</td>\n      <td>75015</td>\n      <td>75</td>\n      <td>2</td>\n      <td>3536</td>\n      <td>2</td>\n      <td>43</td>\n    </tr>\n    <tr>\n      <th>3536-75015-43</th>\n      <td>21/06/2022</td>\n      <td>423000</td>\n      <td>43</td>\n      <td>75015</td>\n      <td>75</td>\n      <td>3</td>\n      <td>3536</td>\n      <td>3</td>\n      <td>0</td>\n    </tr>\n    <tr>\n      <th>3536-75015-43</th>\n      <td>21/06/2022</td>\n      <td>423000</td>\n      <td>43</td>\n      <td>75015</td>\n      <td>75</td>\n      <td>3</td>\n      <td>3536</td>\n      <td>3</td>\n      <td>0</td>\n    </tr>\n    <tr>\n      <th>5554-75011-50</th>\n      <td>30/06/2022</td>\n      <td>104650</td>\n      <td>50</td>\n      <td>75011</td>\n      <td>75</td>\n      <td>2</td>\n      <td>5554</td>\n      <td>2</td>\n      <td>15</td>\n    </tr>\n    <tr>\n      <th>6938-75014-3</th>\n      <td>29/04/2022</td>\n      <td>200000</td>\n      <td>3</td>\n      <td>75014</td>\n      <td>75</td>\n      <td>3</td>\n      <td>6938</td>\n      <td>3</td>\n      <td>0</td>\n    </tr>\n  </tbody>\n</table>\n<p>864743 rows × 9 columns</p>\n</div>"
     },
     "execution_count": 27,
     "metadata": {},
     "output_type": "execute_result"
    }
   ],
   "source": [
    "data_2021_c"
   ],
   "metadata": {
    "collapsed": false,
    "ExecuteTime": {
     "start_time": "2023-05-18T17:10:59.594358Z",
     "end_time": "2023-05-18T17:10:59.608158Z"
    }
   }
  },
  {
   "cell_type": "code",
   "execution_count": 28,
   "outputs": [],
   "source": [
    "data_2021_c.sort_values(by=['ID_Location'], ascending=True, inplace=True)"
   ],
   "metadata": {
    "collapsed": false,
    "ExecuteTime": {
     "start_time": "2023-05-18T17:11:01.283313Z",
     "end_time": "2023-05-18T17:11:02.016555Z"
    }
   }
  },
  {
   "cell_type": "code",
   "execution_count": 29,
   "outputs": [
    {
     "data": {
      "text/plain": "               Date mutation  Valeur fonciere  No voie  Code postal  \\\nID_Location                                                           \n0001-10190-46     31/01/2022           235000       46        10190   \n0001-10200-21     14/01/2022            90000       21        10200   \n0001-10200-21     14/01/2022            90000       21        10200   \n0001-10200-45     24/02/2022            80800       45        10200   \n0001-10200-9      09/02/2022           176500        9        10200   \n...                      ...              ...      ...          ...   \nX395-83270-265    04/02/2022          1441400      265        83270   \nX395-83270-265    04/02/2022          1441400      265        83270   \nX642-75012-6      25/03/2022           917000        6        75012   \nX642-75012-6      25/03/2022           917000        6        75012   \nX642-75012-6      24/06/2022            30000        6        75012   \n\n               Code departement  Code type local Code voie  Code type local  \\\nID_Location                                                                   \n0001-10190-46                10                1      0001                1   \n0001-10200-21                10                3      0001                3   \n0001-10200-21                10                1      0001                1   \n0001-10200-45                10                1      0001                1   \n0001-10200-9                 10                3      0001                3   \n...                         ...              ...       ...              ...   \nX395-83270-265               83                1      X395                1   \nX395-83270-265               83                3      X395                3   \nX642-75012-6                 75                3      X642                3   \nX642-75012-6                 75                2      X642                2   \nX642-75012-6                 75                3      X642                3   \n\n                Surface reelle bati  \nID_Location                          \n0001-10190-46                   106  \n0001-10200-21                     0  \n0001-10200-21                   128  \n0001-10200-45                    96  \n0001-10200-9                      0  \n...                             ...  \nX395-83270-265                  182  \nX395-83270-265                    0  \nX642-75012-6                      0  \nX642-75012-6                    100  \nX642-75012-6                      0  \n\n[654636 rows x 9 columns]",
      "text/html": "<div>\n<style scoped>\n    .dataframe tbody tr th:only-of-type {\n        vertical-align: middle;\n    }\n\n    .dataframe tbody tr th {\n        vertical-align: top;\n    }\n\n    .dataframe thead th {\n        text-align: right;\n    }\n</style>\n<table border=\"1\" class=\"dataframe\">\n  <thead>\n    <tr style=\"text-align: right;\">\n      <th></th>\n      <th>Date mutation</th>\n      <th>Valeur fonciere</th>\n      <th>No voie</th>\n      <th>Code postal</th>\n      <th>Code departement</th>\n      <th>Code type local</th>\n      <th>Code voie</th>\n      <th>Code type local</th>\n      <th>Surface reelle bati</th>\n    </tr>\n    <tr>\n      <th>ID_Location</th>\n      <th></th>\n      <th></th>\n      <th></th>\n      <th></th>\n      <th></th>\n      <th></th>\n      <th></th>\n      <th></th>\n      <th></th>\n    </tr>\n  </thead>\n  <tbody>\n    <tr>\n      <th>0001-10190-46</th>\n      <td>31/01/2022</td>\n      <td>235000</td>\n      <td>46</td>\n      <td>10190</td>\n      <td>10</td>\n      <td>1</td>\n      <td>0001</td>\n      <td>1</td>\n      <td>106</td>\n    </tr>\n    <tr>\n      <th>0001-10200-21</th>\n      <td>14/01/2022</td>\n      <td>90000</td>\n      <td>21</td>\n      <td>10200</td>\n      <td>10</td>\n      <td>3</td>\n      <td>0001</td>\n      <td>3</td>\n      <td>0</td>\n    </tr>\n    <tr>\n      <th>0001-10200-21</th>\n      <td>14/01/2022</td>\n      <td>90000</td>\n      <td>21</td>\n      <td>10200</td>\n      <td>10</td>\n      <td>1</td>\n      <td>0001</td>\n      <td>1</td>\n      <td>128</td>\n    </tr>\n    <tr>\n      <th>0001-10200-45</th>\n      <td>24/02/2022</td>\n      <td>80800</td>\n      <td>45</td>\n      <td>10200</td>\n      <td>10</td>\n      <td>1</td>\n      <td>0001</td>\n      <td>1</td>\n      <td>96</td>\n    </tr>\n    <tr>\n      <th>0001-10200-9</th>\n      <td>09/02/2022</td>\n      <td>176500</td>\n      <td>9</td>\n      <td>10200</td>\n      <td>10</td>\n      <td>3</td>\n      <td>0001</td>\n      <td>3</td>\n      <td>0</td>\n    </tr>\n    <tr>\n      <th>...</th>\n      <td>...</td>\n      <td>...</td>\n      <td>...</td>\n      <td>...</td>\n      <td>...</td>\n      <td>...</td>\n      <td>...</td>\n      <td>...</td>\n      <td>...</td>\n    </tr>\n    <tr>\n      <th>X395-83270-265</th>\n      <td>04/02/2022</td>\n      <td>1441400</td>\n      <td>265</td>\n      <td>83270</td>\n      <td>83</td>\n      <td>1</td>\n      <td>X395</td>\n      <td>1</td>\n      <td>182</td>\n    </tr>\n    <tr>\n      <th>X395-83270-265</th>\n      <td>04/02/2022</td>\n      <td>1441400</td>\n      <td>265</td>\n      <td>83270</td>\n      <td>83</td>\n      <td>3</td>\n      <td>X395</td>\n      <td>3</td>\n      <td>0</td>\n    </tr>\n    <tr>\n      <th>X642-75012-6</th>\n      <td>25/03/2022</td>\n      <td>917000</td>\n      <td>6</td>\n      <td>75012</td>\n      <td>75</td>\n      <td>3</td>\n      <td>X642</td>\n      <td>3</td>\n      <td>0</td>\n    </tr>\n    <tr>\n      <th>X642-75012-6</th>\n      <td>25/03/2022</td>\n      <td>917000</td>\n      <td>6</td>\n      <td>75012</td>\n      <td>75</td>\n      <td>2</td>\n      <td>X642</td>\n      <td>2</td>\n      <td>100</td>\n    </tr>\n    <tr>\n      <th>X642-75012-6</th>\n      <td>24/06/2022</td>\n      <td>30000</td>\n      <td>6</td>\n      <td>75012</td>\n      <td>75</td>\n      <td>3</td>\n      <td>X642</td>\n      <td>3</td>\n      <td>0</td>\n    </tr>\n  </tbody>\n</table>\n<p>654636 rows × 9 columns</p>\n</div>"
     },
     "execution_count": 29,
     "metadata": {},
     "output_type": "execute_result"
    }
   ],
   "source": [
    "data_2021_c = data_2021_c.drop_duplicates()\n",
    "data_2021_c"
   ],
   "metadata": {
    "collapsed": false,
    "ExecuteTime": {
     "start_time": "2023-05-18T17:11:03.509899Z",
     "end_time": "2023-05-18T17:11:03.819883Z"
    }
   }
  },
  {
   "cell_type": "code",
   "execution_count": 30,
   "outputs": [],
   "source": [
    "data = data_2021_c.groupby(['ID_Location', 'Date mutation'])"
   ],
   "metadata": {
    "collapsed": false,
    "ExecuteTime": {
     "start_time": "2023-05-18T17:11:05.898470Z",
     "end_time": "2023-05-18T17:11:06.046786Z"
    }
   }
  },
  {
   "cell_type": "code",
   "execution_count": 31,
   "outputs": [
    {
     "name": "stdout",
     "output_type": "stream",
     "text": [
      "               Date mutation  Valeur fonciere  No voie  Code postal  \\\n",
      "ID_Location                                                           \n",
      "0001-10190-46     31/01/2022           235000       46        10190   \n",
      "0001-10200-21     14/01/2022            90000       21        10200   \n",
      "0001-10200-21     14/01/2022            90000       21        10200   \n",
      "0001-10200-45     24/02/2022            80800       45        10200   \n",
      "0001-10200-9      09/02/2022           176500        9        10200   \n",
      "...                      ...              ...      ...          ...   \n",
      "X395-83270-265    04/02/2022          1441400      265        83270   \n",
      "X395-83270-265    04/02/2022          1441400      265        83270   \n",
      "X642-75012-6      25/03/2022           917000        6        75012   \n",
      "X642-75012-6      25/03/2022           917000        6        75012   \n",
      "X642-75012-6      24/06/2022            30000        6        75012   \n",
      "\n",
      "               Code departement  Code type local Code voie  Code type local  \\\n",
      "ID_Location                                                                   \n",
      "0001-10190-46                10                1      0001                1   \n",
      "0001-10200-21                10                3      0001                3   \n",
      "0001-10200-21                10                1      0001                1   \n",
      "0001-10200-45                10                1      0001                1   \n",
      "0001-10200-9                 10                3      0001                3   \n",
      "...                         ...              ...       ...              ...   \n",
      "X395-83270-265               83                1      X395                1   \n",
      "X395-83270-265               83                3      X395                3   \n",
      "X642-75012-6                 75                3      X642                3   \n",
      "X642-75012-6                 75                2      X642                2   \n",
      "X642-75012-6                 75                3      X642                3   \n",
      "\n",
      "                Surface reelle bati  \n",
      "ID_Location                          \n",
      "0001-10190-46                   106  \n",
      "0001-10200-21                     0  \n",
      "0001-10200-21                   128  \n",
      "0001-10200-45                    96  \n",
      "0001-10200-9                      0  \n",
      "...                             ...  \n",
      "X395-83270-265                  182  \n",
      "X395-83270-265                    0  \n",
      "X642-75012-6                      0  \n",
      "X642-75012-6                    100  \n",
      "X642-75012-6                      0  \n",
      "\n",
      "[648437 rows x 9 columns]\n"
     ]
    }
   ],
   "source": [
    "print(data.head(5))"
   ],
   "metadata": {
    "collapsed": false,
    "ExecuteTime": {
     "start_time": "2023-05-18T17:11:10.229870Z",
     "end_time": "2023-05-18T17:11:10.761614Z"
    }
   }
  },
  {
   "cell_type": "code",
   "execution_count": null,
   "outputs": [],
   "source": [
    "train, test = train_test_split(data_2021_c, test_size=0.2, shuffle=False)"
   ],
   "metadata": {
    "collapsed": false,
    "ExecuteTime": {
     "start_time": "2023-05-18T15:50:02.499051Z",
     "end_time": "2023-05-18T15:50:02.651869Z"
    }
   }
  },
  {
   "cell_type": "code",
   "execution_count": null,
   "outputs": [],
   "source": [
    "window_size = 20 # nombre de lignes à utiliser pour prédire la valeur foncière\n",
    "train_generator = TimeseriesGenerator(train[['Surface terrain', 'Surface reelle bati']].values, train['Valeur fonciere'].values, length=window_size, batch_size=1000)\n",
    "test_generator = TimeseriesGenerator(test[['Surface terrain', 'Surface reelle bati']].values, test['Valeur fonciere'].values, length=window_size, batch_size=1000)"
   ],
   "metadata": {
    "collapsed": false,
    "ExecuteTime": {
     "start_time": "2023-05-18T16:00:28.376797Z",
     "end_time": "2023-05-18T16:00:28.387358Z"
    }
   }
  },
  {
   "cell_type": "code",
   "execution_count": 40,
   "outputs": [
    {
     "data": {
      "text/plain": "357"
     },
     "execution_count": 40,
     "metadata": {},
     "output_type": "execute_result"
    }
   ],
   "source": [
    "len(train_generator)"
   ],
   "metadata": {
    "collapsed": false,
    "ExecuteTime": {
     "start_time": "2023-05-18T16:00:28.387358Z",
     "end_time": "2023-05-18T16:00:28.401985Z"
    }
   }
  },
  {
   "cell_type": "markdown",
   "source": [],
   "metadata": {
    "collapsed": false
   }
  },
  {
   "cell_type": "code",
   "execution_count": 41,
   "outputs": [],
   "source": [
    "model = Sequential()\n",
    "model.add(LSTM(50, activation='relu', input_shape=(window_size, 2)))\n",
    "model.add(Dense(1))\n",
    "model.compile(optimizer='adam', loss='mse', metrics='acc')"
   ],
   "metadata": {
    "collapsed": false,
    "ExecuteTime": {
     "start_time": "2023-05-18T16:00:29.498695Z",
     "end_time": "2023-05-18T16:00:29.570148Z"
    }
   }
  },
  {
   "cell_type": "code",
   "execution_count": null,
   "outputs": [
    {
     "name": "stdout",
     "output_type": "stream",
     "text": [
      "Epoch 1/10\n",
      "250/357 [====================>.........] - ETA: 4s - loss: 4143470346240.0000 - acc: 0.0031"
     ]
    }
   ],
   "source": [
    "model.fit(train_generator, epochs=10, validation_data=(test_generator))"
   ],
   "metadata": {
    "collapsed": false,
    "ExecuteTime": {
     "start_time": "2023-05-18T15:59:29.683933Z",
     "end_time": "2023-05-18T15:59:49.922935Z"
    },
    "pycharm": {
     "is_executing": true
    }
   }
  },
  {
   "cell_type": "code",
   "execution_count": null,
   "outputs": [],
   "source": [],
   "metadata": {
    "collapsed": false
   }
  }
 ],
 "metadata": {
  "kernelspec": {
   "display_name": "Python 3",
   "language": "python",
   "name": "python3"
  },
  "language_info": {
   "codemirror_mode": {
    "name": "ipython",
    "version": 2
   },
   "file_extension": ".py",
   "mimetype": "text/x-python",
   "name": "python",
   "nbconvert_exporter": "python",
   "pygments_lexer": "ipython2",
   "version": "2.7.6"
  }
 },
 "nbformat": 4,
 "nbformat_minor": 0
}
